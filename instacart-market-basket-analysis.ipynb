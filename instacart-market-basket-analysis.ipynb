{
 "cells": [
  {
   "cell_type": "markdown",
   "id": "be22835e",
   "metadata": {
    "papermill": {
     "duration": 0.00948,
     "end_time": "2024-01-13T17:16:11.246572",
     "exception": false,
     "start_time": "2024-01-13T17:16:11.237092",
     "status": "completed"
    },
    "tags": []
   },
   "source": [
    "# Introduction\n",
    "\n",
    "Market Basket Analysis (MBA) is a popular data mining technique leveraged by retailers to discover customer purchasing patterns. By analyzing point of sale data, it identifies correlations between items based on their co-occurrence in transactions. This technique is pivotal in understanding customer behavior, influencing decisions on product placements, up-selling, cross-selling, and pricing strategies.\n",
    "\n",
    "A notable application of MBA is Amazon's \"Frequently bought together\" section. This strategy, rooted in traditional retail practices, encourages additional purchases by suggesting items that are often bought together.\n",
    "\n",
    "Among the techniques used for MBA, Association Rules and the Apriori Algorithm are widely recognized. Association Rules identify co-occurring items in transaction data, while the Apriori Algorithm, using support and confidence metrics, identifies significant associations among these items.\n",
    "\n",
    "In this guide, we'll implement Market Basket Analysis using the Apriori Algorithm and Association Rules in Python with the Instacart dataset. This dataset, containing over 30 million orders, provides a robust context for discovering interesting purchasing patterns.\n",
    "\n",
    "## The key metrics:\n",
    "\n",
    "- **Support:** A measure of an item's overall presence in the total transactions. For example, if 'milk' appears in 100 out of 1000 transactions, its support is 10%.\n",
    "\n",
    "- **Confidence:** This gauges the likelihood that a customer purchasing item A will also purchase item B. For instance, if 'bread' and 'butter' are bought together in 50 out of the 100 transactions where 'bread' is bought, the confidence of the rule 'if bread then butter' is 50%.\n",
    "\n",
    "- **Lift:** This metric assesses the boost in the sale of item A when item B is sold. A lift greater than 1 indicates that items A and B are more likely to be bought together than separately. Conversely, a lift less than 1 suggests that customers are less likely to buy A and B together."
   ]
  },
  {
   "cell_type": "markdown",
   "id": "2328d1b5",
   "metadata": {
    "papermill": {
     "duration": 0.008713,
     "end_time": "2024-01-13T17:16:11.265214",
     "exception": false,
     "start_time": "2024-01-13T17:16:11.256501",
     "status": "completed"
    },
    "tags": []
   },
   "source": [
    "## Data Preprocessing"
   ]
  },
  {
   "cell_type": "code",
   "execution_count": 1,
   "id": "6f0e304d",
   "metadata": {
    "execution": {
     "iopub.execute_input": "2024-01-13T17:16:11.285499Z",
     "iopub.status.busy": "2024-01-13T17:16:11.285042Z",
     "iopub.status.idle": "2024-01-13T17:16:11.785628Z",
     "shell.execute_reply": "2024-01-13T17:16:11.784184Z"
    },
    "papermill": {
     "duration": 0.514708,
     "end_time": "2024-01-13T17:16:11.788864",
     "exception": false,
     "start_time": "2024-01-13T17:16:11.274156",
     "status": "completed"
    },
    "tags": []
   },
   "outputs": [],
   "source": [
    "# Import necessary libraries\n",
    "import numpy             as np\n",
    "import pandas            as pd\n",
    "import matplotlib.pyplot as plt\n",
    "\n",
    "from mlxtend.frequent_patterns import apriori, association_rules\n",
    "\n",
    "# Ignore all warnings\n",
    "import warnings\n",
    "warnings.filterwarnings('ignore')"
   ]
  },
  {
   "cell_type": "code",
   "execution_count": 2,
   "id": "9ca77a0b",
   "metadata": {
    "execution": {
     "iopub.execute_input": "2024-01-13T17:16:11.809339Z",
     "iopub.status.busy": "2024-01-13T17:16:11.808550Z",
     "iopub.status.idle": "2024-01-13T17:16:11.816150Z",
     "shell.execute_reply": "2024-01-13T17:16:11.814204Z"
    },
    "papermill": {
     "duration": 0.021279,
     "end_time": "2024-01-13T17:16:11.819169",
     "exception": false,
     "start_time": "2024-01-13T17:16:11.797890",
     "status": "completed"
    },
    "tags": []
   },
   "outputs": [],
   "source": [
    "# Set the pandas display option to format float numbers to 2 decimal places\n",
    "pd.set_option('display.float_format', '{:.2f}'.format)\n",
    "\n",
    "# Set the maximum column width to display all the content in a DataFrame cell\n",
    "pd.set_option('display.max_colwidth', None)"
   ]
  },
  {
   "cell_type": "code",
   "execution_count": 3,
   "id": "0c6943d5",
   "metadata": {
    "execution": {
     "iopub.execute_input": "2024-01-13T17:16:11.840634Z",
     "iopub.status.busy": "2024-01-13T17:16:11.840104Z",
     "iopub.status.idle": "2024-01-13T17:16:27.721515Z",
     "shell.execute_reply": "2024-01-13T17:16:27.720416Z"
    },
    "papermill": {
     "duration": 15.89618,
     "end_time": "2024-01-13T17:16:27.724577",
     "exception": false,
     "start_time": "2024-01-13T17:16:11.828397",
     "status": "completed"
    },
    "tags": []
   },
   "outputs": [],
   "source": [
    "# Loading the orders and products data\n",
    "orders_data = pd.read_csv(\"../input/instacart-market-basket-analysis/order_products__prior.csv\")\n",
    "products_data = pd.read_csv(\"../input/instacart-market-basket-analysis/products.csv\")"
   ]
  },
  {
   "cell_type": "code",
   "execution_count": 4,
   "id": "d0b207e0",
   "metadata": {
    "execution": {
     "iopub.execute_input": "2024-01-13T17:16:27.744416Z",
     "iopub.status.busy": "2024-01-13T17:16:27.743972Z",
     "iopub.status.idle": "2024-01-13T17:16:27.768235Z",
     "shell.execute_reply": "2024-01-13T17:16:27.766767Z"
    },
    "papermill": {
     "duration": 0.037834,
     "end_time": "2024-01-13T17:16:27.771363",
     "exception": false,
     "start_time": "2024-01-13T17:16:27.733529",
     "status": "completed"
    },
    "tags": []
   },
   "outputs": [
    {
     "data": {
      "text/html": [
       "<div>\n",
       "<style scoped>\n",
       "    .dataframe tbody tr th:only-of-type {\n",
       "        vertical-align: middle;\n",
       "    }\n",
       "\n",
       "    .dataframe tbody tr th {\n",
       "        vertical-align: top;\n",
       "    }\n",
       "\n",
       "    .dataframe thead th {\n",
       "        text-align: right;\n",
       "    }\n",
       "</style>\n",
       "<table border=\"1\" class=\"dataframe\">\n",
       "  <thead>\n",
       "    <tr style=\"text-align: right;\">\n",
       "      <th></th>\n",
       "      <th>order_id</th>\n",
       "      <th>product_id</th>\n",
       "      <th>add_to_cart_order</th>\n",
       "      <th>reordered</th>\n",
       "    </tr>\n",
       "  </thead>\n",
       "  <tbody>\n",
       "    <tr>\n",
       "      <th>0</th>\n",
       "      <td>2</td>\n",
       "      <td>33120</td>\n",
       "      <td>1</td>\n",
       "      <td>1</td>\n",
       "    </tr>\n",
       "    <tr>\n",
       "      <th>1</th>\n",
       "      <td>2</td>\n",
       "      <td>28985</td>\n",
       "      <td>2</td>\n",
       "      <td>1</td>\n",
       "    </tr>\n",
       "    <tr>\n",
       "      <th>2</th>\n",
       "      <td>2</td>\n",
       "      <td>9327</td>\n",
       "      <td>3</td>\n",
       "      <td>0</td>\n",
       "    </tr>\n",
       "    <tr>\n",
       "      <th>3</th>\n",
       "      <td>2</td>\n",
       "      <td>45918</td>\n",
       "      <td>4</td>\n",
       "      <td>1</td>\n",
       "    </tr>\n",
       "    <tr>\n",
       "      <th>4</th>\n",
       "      <td>2</td>\n",
       "      <td>30035</td>\n",
       "      <td>5</td>\n",
       "      <td>0</td>\n",
       "    </tr>\n",
       "  </tbody>\n",
       "</table>\n",
       "</div>"
      ],
      "text/plain": [
       "   order_id  product_id  add_to_cart_order  reordered\n",
       "0         2       33120                  1          1\n",
       "1         2       28985                  2          1\n",
       "2         2        9327                  3          0\n",
       "3         2       45918                  4          1\n",
       "4         2       30035                  5          0"
      ]
     },
     "execution_count": 4,
     "metadata": {},
     "output_type": "execute_result"
    }
   ],
   "source": [
    "# Display the first few rows of the orders DataFrame\n",
    "orders_data.head()"
   ]
  },
  {
   "cell_type": "code",
   "execution_count": 5,
   "id": "63be9c0d",
   "metadata": {
    "execution": {
     "iopub.execute_input": "2024-01-13T17:16:27.791735Z",
     "iopub.status.busy": "2024-01-13T17:16:27.791240Z",
     "iopub.status.idle": "2024-01-13T17:16:27.804374Z",
     "shell.execute_reply": "2024-01-13T17:16:27.803095Z"
    },
    "papermill": {
     "duration": 0.026985,
     "end_time": "2024-01-13T17:16:27.807635",
     "exception": false,
     "start_time": "2024-01-13T17:16:27.780650",
     "status": "completed"
    },
    "tags": []
   },
   "outputs": [
    {
     "data": {
      "text/html": [
       "<div>\n",
       "<style scoped>\n",
       "    .dataframe tbody tr th:only-of-type {\n",
       "        vertical-align: middle;\n",
       "    }\n",
       "\n",
       "    .dataframe tbody tr th {\n",
       "        vertical-align: top;\n",
       "    }\n",
       "\n",
       "    .dataframe thead th {\n",
       "        text-align: right;\n",
       "    }\n",
       "</style>\n",
       "<table border=\"1\" class=\"dataframe\">\n",
       "  <thead>\n",
       "    <tr style=\"text-align: right;\">\n",
       "      <th></th>\n",
       "      <th>product_id</th>\n",
       "      <th>product_name</th>\n",
       "      <th>aisle_id</th>\n",
       "      <th>department_id</th>\n",
       "    </tr>\n",
       "  </thead>\n",
       "  <tbody>\n",
       "    <tr>\n",
       "      <th>0</th>\n",
       "      <td>1</td>\n",
       "      <td>Chocolate Sandwich Cookies</td>\n",
       "      <td>61</td>\n",
       "      <td>19</td>\n",
       "    </tr>\n",
       "    <tr>\n",
       "      <th>1</th>\n",
       "      <td>2</td>\n",
       "      <td>All-Seasons Salt</td>\n",
       "      <td>104</td>\n",
       "      <td>13</td>\n",
       "    </tr>\n",
       "    <tr>\n",
       "      <th>2</th>\n",
       "      <td>3</td>\n",
       "      <td>Robust Golden Unsweetened Oolong Tea</td>\n",
       "      <td>94</td>\n",
       "      <td>7</td>\n",
       "    </tr>\n",
       "    <tr>\n",
       "      <th>3</th>\n",
       "      <td>4</td>\n",
       "      <td>Smart Ones Classic Favorites Mini Rigatoni With Vodka Cream Sauce</td>\n",
       "      <td>38</td>\n",
       "      <td>1</td>\n",
       "    </tr>\n",
       "    <tr>\n",
       "      <th>4</th>\n",
       "      <td>5</td>\n",
       "      <td>Green Chile Anytime Sauce</td>\n",
       "      <td>5</td>\n",
       "      <td>13</td>\n",
       "    </tr>\n",
       "  </tbody>\n",
       "</table>\n",
       "</div>"
      ],
      "text/plain": [
       "   product_id  \\\n",
       "0           1   \n",
       "1           2   \n",
       "2           3   \n",
       "3           4   \n",
       "4           5   \n",
       "\n",
       "                                                        product_name  \\\n",
       "0                                         Chocolate Sandwich Cookies   \n",
       "1                                                   All-Seasons Salt   \n",
       "2                               Robust Golden Unsweetened Oolong Tea   \n",
       "3  Smart Ones Classic Favorites Mini Rigatoni With Vodka Cream Sauce   \n",
       "4                                          Green Chile Anytime Sauce   \n",
       "\n",
       "   aisle_id  department_id  \n",
       "0        61             19  \n",
       "1       104             13  \n",
       "2        94              7  \n",
       "3        38              1  \n",
       "4         5             13  "
      ]
     },
     "execution_count": 5,
     "metadata": {},
     "output_type": "execute_result"
    }
   ],
   "source": [
    "# Display the first few rows of the products DataFrame\n",
    "products_data.head()"
   ]
  },
  {
   "cell_type": "code",
   "execution_count": 6,
   "id": "ba057a41",
   "metadata": {
    "execution": {
     "iopub.execute_input": "2024-01-13T17:16:27.829862Z",
     "iopub.status.busy": "2024-01-13T17:16:27.828941Z",
     "iopub.status.idle": "2024-01-13T17:16:36.906119Z",
     "shell.execute_reply": "2024-01-13T17:16:36.904699Z"
    },
    "papermill": {
     "duration": 9.091991,
     "end_time": "2024-01-13T17:16:36.909228",
     "exception": false,
     "start_time": "2024-01-13T17:16:27.817237",
     "status": "completed"
    },
    "tags": []
   },
   "outputs": [
    {
     "data": {
      "text/html": [
       "<div>\n",
       "<style scoped>\n",
       "    .dataframe tbody tr th:only-of-type {\n",
       "        vertical-align: middle;\n",
       "    }\n",
       "\n",
       "    .dataframe tbody tr th {\n",
       "        vertical-align: top;\n",
       "    }\n",
       "\n",
       "    .dataframe thead th {\n",
       "        text-align: right;\n",
       "    }\n",
       "</style>\n",
       "<table border=\"1\" class=\"dataframe\">\n",
       "  <thead>\n",
       "    <tr style=\"text-align: right;\">\n",
       "      <th></th>\n",
       "      <th>order_id</th>\n",
       "      <th>product_id</th>\n",
       "      <th>add_to_cart_order</th>\n",
       "      <th>reordered</th>\n",
       "      <th>product_name</th>\n",
       "      <th>aisle_id</th>\n",
       "      <th>department_id</th>\n",
       "    </tr>\n",
       "  </thead>\n",
       "  <tbody>\n",
       "    <tr>\n",
       "      <th>0</th>\n",
       "      <td>2</td>\n",
       "      <td>33120</td>\n",
       "      <td>1</td>\n",
       "      <td>1</td>\n",
       "      <td>Organic Egg Whites</td>\n",
       "      <td>86</td>\n",
       "      <td>16</td>\n",
       "    </tr>\n",
       "    <tr>\n",
       "      <th>1</th>\n",
       "      <td>26</td>\n",
       "      <td>33120</td>\n",
       "      <td>5</td>\n",
       "      <td>0</td>\n",
       "      <td>Organic Egg Whites</td>\n",
       "      <td>86</td>\n",
       "      <td>16</td>\n",
       "    </tr>\n",
       "    <tr>\n",
       "      <th>2</th>\n",
       "      <td>120</td>\n",
       "      <td>33120</td>\n",
       "      <td>13</td>\n",
       "      <td>0</td>\n",
       "      <td>Organic Egg Whites</td>\n",
       "      <td>86</td>\n",
       "      <td>16</td>\n",
       "    </tr>\n",
       "    <tr>\n",
       "      <th>3</th>\n",
       "      <td>327</td>\n",
       "      <td>33120</td>\n",
       "      <td>5</td>\n",
       "      <td>1</td>\n",
       "      <td>Organic Egg Whites</td>\n",
       "      <td>86</td>\n",
       "      <td>16</td>\n",
       "    </tr>\n",
       "    <tr>\n",
       "      <th>4</th>\n",
       "      <td>390</td>\n",
       "      <td>33120</td>\n",
       "      <td>28</td>\n",
       "      <td>1</td>\n",
       "      <td>Organic Egg Whites</td>\n",
       "      <td>86</td>\n",
       "      <td>16</td>\n",
       "    </tr>\n",
       "  </tbody>\n",
       "</table>\n",
       "</div>"
      ],
      "text/plain": [
       "   order_id  product_id  add_to_cart_order  reordered        product_name  \\\n",
       "0         2       33120                  1          1  Organic Egg Whites   \n",
       "1        26       33120                  5          0  Organic Egg Whites   \n",
       "2       120       33120                 13          0  Organic Egg Whites   \n",
       "3       327       33120                  5          1  Organic Egg Whites   \n",
       "4       390       33120                 28          1  Organic Egg Whites   \n",
       "\n",
       "   aisle_id  department_id  \n",
       "0        86             16  \n",
       "1        86             16  \n",
       "2        86             16  \n",
       "3        86             16  \n",
       "4        86             16  "
      ]
     },
     "execution_count": 6,
     "metadata": {},
     "output_type": "execute_result"
    }
   ],
   "source": [
    "# Merging the orders and products dataframes on 'product_id'\n",
    "merged_df = pd.merge(orders_data, products_data, on='product_id', how='inner')\n",
    "\n",
    "# Display the first few rows of the merged DataFrame\n",
    "merged_df.head()"
   ]
  },
  {
   "cell_type": "code",
   "execution_count": 7,
   "id": "e40f0900",
   "metadata": {
    "execution": {
     "iopub.execute_input": "2024-01-13T17:16:36.931345Z",
     "iopub.status.busy": "2024-01-13T17:16:36.930541Z",
     "iopub.status.idle": "2024-01-13T17:16:38.625666Z",
     "shell.execute_reply": "2024-01-13T17:16:38.624225Z"
    },
    "papermill": {
     "duration": 1.710222,
     "end_time": "2024-01-13T17:16:38.629172",
     "exception": false,
     "start_time": "2024-01-13T17:16:36.918950",
     "status": "completed"
    },
    "tags": []
   },
   "outputs": [
    {
     "name": "stdout",
     "output_type": "stream",
     "text": [
      "The are 0 missing values in the dataset\n"
     ]
    }
   ],
   "source": [
    "# Print the number of missing values in the dataset\n",
    "print(f\"The are {merged_df.isna().sum().sum()} missing values in the dataset\")"
   ]
  },
  {
   "cell_type": "code",
   "execution_count": 8,
   "id": "32191dcf",
   "metadata": {
    "execution": {
     "iopub.execute_input": "2024-01-13T17:16:38.652343Z",
     "iopub.status.busy": "2024-01-13T17:16:38.651862Z",
     "iopub.status.idle": "2024-01-13T17:16:38.658440Z",
     "shell.execute_reply": "2024-01-13T17:16:38.656959Z"
    },
    "papermill": {
     "duration": 0.021523,
     "end_time": "2024-01-13T17:16:38.661488",
     "exception": false,
     "start_time": "2024-01-13T17:16:38.639965",
     "status": "completed"
    },
    "tags": []
   },
   "outputs": [
    {
     "name": "stdout",
     "output_type": "stream",
     "text": [
      "The length of the dataframe is: 32,434,489\n"
     ]
    }
   ],
   "source": [
    "# Print the length of the dataframe\n",
    "print('The length of the dataframe is: {:,}'.format(len(merged_df)))"
   ]
  },
  {
   "cell_type": "code",
   "execution_count": 9,
   "id": "aaefd69c",
   "metadata": {
    "execution": {
     "iopub.execute_input": "2024-01-13T17:16:38.684456Z",
     "iopub.status.busy": "2024-01-13T17:16:38.683335Z",
     "iopub.status.idle": "2024-01-13T17:16:38.873142Z",
     "shell.execute_reply": "2024-01-13T17:16:38.871711Z"
    },
    "papermill": {
     "duration": 0.204032,
     "end_time": "2024-01-13T17:16:38.876036",
     "exception": false,
     "start_time": "2024-01-13T17:16:38.672004",
     "status": "completed"
    },
    "tags": []
   },
   "outputs": [
    {
     "name": "stdout",
     "output_type": "stream",
     "text": [
      "There are 49677 unique products in the dataset\n"
     ]
    }
   ],
   "source": [
    "# Print the number of unique products in the dataset\n",
    "print(f'There are {merged_df.product_id.nunique()} unique products in the dataset')"
   ]
  },
  {
   "cell_type": "markdown",
   "id": "e4e0cfa4",
   "metadata": {
    "papermill": {
     "duration": 0.009518,
     "end_time": "2024-01-13T17:16:38.895653",
     "exception": false,
     "start_time": "2024-01-13T17:16:38.886135",
     "status": "completed"
    },
    "tags": []
   },
   "source": [
    "*Due to memory constrains, we're keeping only 450 out of the 49677 products.*"
   ]
  },
  {
   "cell_type": "code",
   "execution_count": 10,
   "id": "19960396",
   "metadata": {
    "execution": {
     "iopub.execute_input": "2024-01-13T17:16:38.918215Z",
     "iopub.status.busy": "2024-01-13T17:16:38.917746Z",
     "iopub.status.idle": "2024-01-13T17:16:39.717728Z",
     "shell.execute_reply": "2024-01-13T17:16:39.716617Z"
    },
    "papermill": {
     "duration": 0.814721,
     "end_time": "2024-01-13T17:16:39.721110",
     "exception": false,
     "start_time": "2024-01-13T17:16:38.906389",
     "status": "completed"
    },
    "tags": []
   },
   "outputs": [
    {
     "name": "stdout",
     "output_type": "stream",
     "text": [
      "The new dataframe contain 450 unique product\n"
     ]
    }
   ],
   "source": [
    "# Function to calculate top frequent products\n",
    "def calculate_top_frequent_products(df, top_n):\n",
    "    product_frequency = df.groupby('product_id')['order_id'].count().reset_index()\n",
    "    product_frequency.rename(columns = {'order_id':'frequency'}, inplace=True)\n",
    "    top_frequent_products = product_frequency.nlargest(top_n, 'frequency')\n",
    "    return top_frequent_products.merge(products_data, on='product_id', how='left')\n",
    "\n",
    "# Calculate top frequent products\n",
    "top_frequent_products = calculate_top_frequent_products(merged_df, 450)\n",
    "\n",
    "# Creating a list of the product_ids of the top frequent products\n",
    "frequent_product_ids = list(top_frequent_products.product_id)\n",
    "\n",
    "# Print the total number of frequent products\n",
    "print(f\"The new dataframe contain {len(frequent_product_ids)} unique product\")"
   ]
  },
  {
   "cell_type": "code",
   "execution_count": 11,
   "id": "7e7ce9f1",
   "metadata": {
    "execution": {
     "iopub.execute_input": "2024-01-13T17:16:39.756183Z",
     "iopub.status.busy": "2024-01-13T17:16:39.755692Z",
     "iopub.status.idle": "2024-01-13T17:16:41.062727Z",
     "shell.execute_reply": "2024-01-13T17:16:41.061344Z"
    },
    "papermill": {
     "duration": 1.328424,
     "end_time": "2024-01-13T17:16:41.065968",
     "exception": false,
     "start_time": "2024-01-13T17:16:39.737544",
     "status": "completed"
    },
    "tags": []
   },
   "outputs": [
    {
     "data": {
      "text/html": [
       "<div>\n",
       "<style scoped>\n",
       "    .dataframe tbody tr th:only-of-type {\n",
       "        vertical-align: middle;\n",
       "    }\n",
       "\n",
       "    .dataframe tbody tr th {\n",
       "        vertical-align: top;\n",
       "    }\n",
       "\n",
       "    .dataframe thead th {\n",
       "        text-align: right;\n",
       "    }\n",
       "</style>\n",
       "<table border=\"1\" class=\"dataframe\">\n",
       "  <thead>\n",
       "    <tr style=\"text-align: right;\">\n",
       "      <th></th>\n",
       "      <th>order_id</th>\n",
       "      <th>product_id</th>\n",
       "      <th>add_to_cart_order</th>\n",
       "      <th>reordered</th>\n",
       "      <th>product_name</th>\n",
       "      <th>aisle_id</th>\n",
       "      <th>department_id</th>\n",
       "    </tr>\n",
       "  </thead>\n",
       "  <tbody>\n",
       "    <tr>\n",
       "      <th>0</th>\n",
       "      <td>2</td>\n",
       "      <td>33120</td>\n",
       "      <td>1</td>\n",
       "      <td>1</td>\n",
       "      <td>Organic Egg Whites</td>\n",
       "      <td>86</td>\n",
       "      <td>16</td>\n",
       "    </tr>\n",
       "    <tr>\n",
       "      <th>1</th>\n",
       "      <td>26</td>\n",
       "      <td>33120</td>\n",
       "      <td>5</td>\n",
       "      <td>0</td>\n",
       "      <td>Organic Egg Whites</td>\n",
       "      <td>86</td>\n",
       "      <td>16</td>\n",
       "    </tr>\n",
       "    <tr>\n",
       "      <th>2</th>\n",
       "      <td>120</td>\n",
       "      <td>33120</td>\n",
       "      <td>13</td>\n",
       "      <td>0</td>\n",
       "      <td>Organic Egg Whites</td>\n",
       "      <td>86</td>\n",
       "      <td>16</td>\n",
       "    </tr>\n",
       "    <tr>\n",
       "      <th>3</th>\n",
       "      <td>327</td>\n",
       "      <td>33120</td>\n",
       "      <td>5</td>\n",
       "      <td>1</td>\n",
       "      <td>Organic Egg Whites</td>\n",
       "      <td>86</td>\n",
       "      <td>16</td>\n",
       "    </tr>\n",
       "    <tr>\n",
       "      <th>4</th>\n",
       "      <td>390</td>\n",
       "      <td>33120</td>\n",
       "      <td>28</td>\n",
       "      <td>1</td>\n",
       "      <td>Organic Egg Whites</td>\n",
       "      <td>86</td>\n",
       "      <td>16</td>\n",
       "    </tr>\n",
       "  </tbody>\n",
       "</table>\n",
       "</div>"
      ],
      "text/plain": [
       "   order_id  product_id  add_to_cart_order  reordered        product_name  \\\n",
       "0         2       33120                  1          1  Organic Egg Whites   \n",
       "1        26       33120                  5          0  Organic Egg Whites   \n",
       "2       120       33120                 13          0  Organic Egg Whites   \n",
       "3       327       33120                  5          1  Organic Egg Whites   \n",
       "4       390       33120                 28          1  Organic Egg Whites   \n",
       "\n",
       "   aisle_id  department_id  \n",
       "0        86             16  \n",
       "1        86             16  \n",
       "2        86             16  \n",
       "3        86             16  \n",
       "4        86             16  "
      ]
     },
     "execution_count": 11,
     "metadata": {},
     "output_type": "execute_result"
    }
   ],
   "source": [
    "# Filter merged_orders_products to include only the top frequent products\n",
    "filtered_data = merged_df[merged_df['product_id'].isin(frequent_product_ids)]\n",
    "\n",
    "# Display the first few rows of the new filtered DataFrame\n",
    "filtered_data.head()"
   ]
  },
  {
   "cell_type": "code",
   "execution_count": 12,
   "id": "3fb9e230",
   "metadata": {
    "execution": {
     "iopub.execute_input": "2024-01-13T17:16:41.089061Z",
     "iopub.status.busy": "2024-01-13T17:16:41.088226Z",
     "iopub.status.idle": "2024-01-13T17:16:41.094816Z",
     "shell.execute_reply": "2024-01-13T17:16:41.093458Z"
    },
    "papermill": {
     "duration": 0.021302,
     "end_time": "2024-01-13T17:16:41.097709",
     "exception": false,
     "start_time": "2024-01-13T17:16:41.076407",
     "status": "completed"
    },
    "tags": []
   },
   "outputs": [
    {
     "name": "stdout",
     "output_type": "stream",
     "text": [
      "The length of the new dataframe is: 13,395,934\n"
     ]
    }
   ],
   "source": [
    "# Print the length of the new dataframe with comma as thousand separator\n",
    "print('The length of the new dataframe is: {:,}'.format(len(filtered_data)))"
   ]
  },
  {
   "cell_type": "markdown",
   "id": "3bd6d1f6",
   "metadata": {
    "papermill": {
     "duration": 0.009525,
     "end_time": "2024-01-13T17:16:41.117330",
     "exception": false,
     "start_time": "2024-01-13T17:16:41.107805",
     "status": "completed"
    },
    "tags": []
   },
   "source": [
    "*We're using only 41.27% of our original dataset.*"
   ]
  },
  {
   "cell_type": "code",
   "execution_count": 13,
   "id": "6567e676",
   "metadata": {
    "execution": {
     "iopub.execute_input": "2024-01-13T17:16:41.139463Z",
     "iopub.status.busy": "2024-01-13T17:16:41.139032Z",
     "iopub.status.idle": "2024-01-13T17:16:42.197094Z",
     "shell.execute_reply": "2024-01-13T17:16:42.195283Z"
    },
    "papermill": {
     "duration": 1.072475,
     "end_time": "2024-01-13T17:16:42.199937",
     "exception": false,
     "start_time": "2024-01-13T17:16:41.127462",
     "status": "completed"
    },
    "tags": []
   },
   "outputs": [
    {
     "name": "stdout",
     "output_type": "stream",
     "text": [
      "The new dataframe contains 2,783,957 different orders\n"
     ]
    }
   ],
   "source": [
    "# Print the number of different orders in the new dataframe\n",
    "print(\"The new dataframe contains {:,} different orders\".format(filtered_data.order_id.nunique()))"
   ]
  },
  {
   "cell_type": "markdown",
   "id": "96f30c04",
   "metadata": {
    "papermill": {
     "duration": 0.010837,
     "end_time": "2024-01-13T17:16:42.221759",
     "exception": false,
     "start_time": "2024-01-13T17:16:42.210922",
     "status": "completed"
    },
    "tags": []
   },
   "source": [
    "## Exploratory Data Analysis"
   ]
  },
  {
   "cell_type": "code",
   "execution_count": 14,
   "id": "0a3396bf",
   "metadata": {
    "execution": {
     "iopub.execute_input": "2024-01-13T17:16:42.245740Z",
     "iopub.status.busy": "2024-01-13T17:16:42.245259Z",
     "iopub.status.idle": "2024-01-13T17:16:43.496689Z",
     "shell.execute_reply": "2024-01-13T17:16:43.495225Z"
    },
    "papermill": {
     "duration": 1.267046,
     "end_time": "2024-01-13T17:16:43.499754",
     "exception": false,
     "start_time": "2024-01-13T17:16:42.232708",
     "status": "completed"
    },
    "tags": []
   },
   "outputs": [
    {
     "data": {
      "image/png": "[encoded data removed]",
      "text/plain": [
       "<Figure size 1800x800 with 1 Axes>"
      ]
     },
     "metadata": {},
     "output_type": "display_data"
    }
   ],
   "source": [
    "# Set the size of the plot\n",
    "plt.figure(figsize=(18,8))\n",
    "\n",
    "# Identify the top 20 most frequently purchased items\n",
    "top_20 = filtered_data['product_name'].value_counts().head(20).sort_values(ascending=True)\n",
    "\n",
    "# Plot a horizontal bar chart of the top 20 most frequently purchased items\n",
    "top_20.plot(kind='barh')\n",
    "\n",
    "# Set the title of the bar chart\n",
    "plt.title('Top 20 Most Bought Items')\n",
    "\n",
    "# Label the x-axis as 'Frequency'\n",
    "plt.xlabel('Frequency')\n",
    "\n",
    "# Label the y-axis as 'Items'\n",
    "plt.ylabel('Items')\n",
    "\n",
    "# Display the plot\n",
    "plt.show()"
   ]
  },
  {
   "cell_type": "markdown",
   "id": "0d775f19",
   "metadata": {
    "papermill": {
     "duration": 0.011091,
     "end_time": "2024-01-13T17:16:43.522448",
     "exception": false,
     "start_time": "2024-01-13T17:16:43.511357",
     "status": "completed"
    },
    "tags": []
   },
   "source": [
    "`Banana` was the most bought product with more than 470,000 purchases, followed by `Bag of Organic Bananas` and `Organic Strawberries` with 370,000 and 260,000 purchases respectively.\n",
    "\n"
   ]
  },
  {
   "cell_type": "code",
   "execution_count": 15,
   "id": "9cab0962",
   "metadata": {
    "execution": {
     "iopub.execute_input": "2024-01-13T17:16:43.548239Z",
     "iopub.status.busy": "2024-01-13T17:16:43.547306Z",
     "iopub.status.idle": "2024-01-13T17:16:45.815549Z",
     "shell.execute_reply": "2024-01-13T17:16:45.814153Z"
    },
    "papermill": {
     "duration": 2.284209,
     "end_time": "2024-01-13T17:16:45.818315",
     "exception": false,
     "start_time": "2024-01-13T17:16:43.534106",
     "status": "completed"
    },
    "tags": []
   },
   "outputs": [
    {
     "data": {
      "image/png": "[encoded data removed]",
      "text/plain": [
       "<Figure size 1800x800 with 1 Axes>"
      ]
     },
     "metadata": {},
     "output_type": "display_data"
    }
   ],
   "source": [
    "# Set the size of the plot\n",
    "plt.figure(figsize=(18,8))\n",
    "\n",
    "# Identify the top 10 orders with the most items\n",
    "top_10_orders = filtered_data.order_id.value_counts().head(10)\n",
    "\n",
    "# Plot a bar chart of the top 10 orders with the most items\n",
    "top_10_orders.plot(kind='bar')\n",
    "\n",
    "# Set the title of the bar chart\n",
    "plt.title('Top 10 Orders with Most Items')\n",
    "\n",
    "# Label the x-axis as 'Order ID'\n",
    "plt.xlabel('Order ID')\n",
    "\n",
    "# Label the y-axis as 'Number of Items'\n",
    "plt.ylabel('Number of Items')\n",
    "\n",
    "# Display the plot\n",
    "plt.show()"
   ]
  },
  {
   "cell_type": "markdown",
   "id": "16520b29",
   "metadata": {
    "papermill": {
     "duration": 0.012621,
     "end_time": "2024-01-13T17:16:45.843598",
     "exception": false,
     "start_time": "2024-01-13T17:16:45.830977",
     "status": "completed"
    },
    "tags": []
   },
   "source": [
    "Order number 1564244 holds the record as the largest order, containing a total of 54 items."
   ]
  },
  {
   "cell_type": "code",
   "execution_count": 16,
   "id": "7babdb4e",
   "metadata": {
    "execution": {
     "iopub.execute_input": "2024-01-13T17:16:45.970000Z",
     "iopub.status.busy": "2024-01-13T17:16:45.969513Z",
     "iopub.status.idle": "2024-01-13T17:16:47.903527Z",
     "shell.execute_reply": "2024-01-13T17:16:47.902219Z"
    },
    "papermill": {
     "duration": 1.952585,
     "end_time": "2024-01-13T17:16:47.906304",
     "exception": false,
     "start_time": "2024-01-13T17:16:45.953719",
     "status": "completed"
    },
    "tags": []
   },
   "outputs": [
    {
     "name": "stdout",
     "output_type": "stream",
     "text": [
      "The average number of items bought per order is: 4.8\n"
     ]
    }
   ],
   "source": [
    "# Print the average number of items bought per order\n",
    "print(\"The average number of items bought per order is:\", round(filtered_data.order_id.value_counts().mean(), 1))"
   ]
  },
  {
   "cell_type": "code",
   "execution_count": 17,
   "id": "f8e18728",
   "metadata": {
    "execution": {
     "iopub.execute_input": "2024-01-13T17:16:47.936167Z",
     "iopub.status.busy": "2024-01-13T17:16:47.935290Z",
     "iopub.status.idle": "2024-01-13T17:16:52.122432Z",
     "shell.execute_reply": "2024-01-13T17:16:52.121451Z"
    },
    "papermill": {
     "duration": 4.204309,
     "end_time": "2024-01-13T17:16:52.125041",
     "exception": false,
     "start_time": "2024-01-13T17:16:47.920732",
     "status": "completed"
    },
    "tags": []
   },
   "outputs": [
    {
     "data": {
      "text/html": [
       "<div>\n",
       "<style scoped>\n",
       "    .dataframe tbody tr th:only-of-type {\n",
       "        vertical-align: middle;\n",
       "    }\n",
       "\n",
       "    .dataframe tbody tr th {\n",
       "        vertical-align: top;\n",
       "    }\n",
       "\n",
       "    .dataframe thead th {\n",
       "        text-align: right;\n",
       "    }\n",
       "</style>\n",
       "<table border=\"1\" class=\"dataframe\">\n",
       "  <thead>\n",
       "    <tr style=\"text-align: right;\">\n",
       "      <th></th>\n",
       "      <th>order_id</th>\n",
       "      <th>product_id</th>\n",
       "      <th>add_to_cart_order</th>\n",
       "      <th>reordered</th>\n",
       "      <th>aisle_id</th>\n",
       "      <th>department_id</th>\n",
       "    </tr>\n",
       "  </thead>\n",
       "  <tbody>\n",
       "    <tr>\n",
       "      <th>count</th>\n",
       "      <td>13395934.00</td>\n",
       "      <td>13395934.00</td>\n",
       "      <td>13395934.00</td>\n",
       "      <td>13395934.00</td>\n",
       "      <td>13395934.00</td>\n",
       "      <td>13395934.00</td>\n",
       "    </tr>\n",
       "    <tr>\n",
       "      <th>mean</th>\n",
       "      <td>1710921.37</td>\n",
       "      <td>26766.62</td>\n",
       "      <td>7.80</td>\n",
       "      <td>0.68</td>\n",
       "      <td>69.38</td>\n",
       "      <td>7.87</td>\n",
       "    </tr>\n",
       "    <tr>\n",
       "      <th>std</th>\n",
       "      <td>987195.79</td>\n",
       "      <td>13690.25</td>\n",
       "      <td>6.64</td>\n",
       "      <td>0.47</td>\n",
       "      <td>37.84</td>\n",
       "      <td>5.70</td>\n",
       "    </tr>\n",
       "    <tr>\n",
       "      <th>min</th>\n",
       "      <td>2.00</td>\n",
       "      <td>45.00</td>\n",
       "      <td>1.00</td>\n",
       "      <td>0.00</td>\n",
       "      <td>3.00</td>\n",
       "      <td>1.00</td>\n",
       "    </tr>\n",
       "    <tr>\n",
       "      <th>25%</th>\n",
       "      <td>856207.00</td>\n",
       "      <td>16797.00</td>\n",
       "      <td>3.00</td>\n",
       "      <td>0.00</td>\n",
       "      <td>24.00</td>\n",
       "      <td>4.00</td>\n",
       "    </tr>\n",
       "    <tr>\n",
       "      <th>50%</th>\n",
       "      <td>1711435.00</td>\n",
       "      <td>26209.00</td>\n",
       "      <td>6.00</td>\n",
       "      <td>1.00</td>\n",
       "      <td>83.00</td>\n",
       "      <td>4.00</td>\n",
       "    </tr>\n",
       "    <tr>\n",
       "      <th>75%</th>\n",
       "      <td>2565216.00</td>\n",
       "      <td>39275.00</td>\n",
       "      <td>11.00</td>\n",
       "      <td>1.00</td>\n",
       "      <td>96.00</td>\n",
       "      <td>15.00</td>\n",
       "    </tr>\n",
       "    <tr>\n",
       "      <th>max</th>\n",
       "      <td>3421083.00</td>\n",
       "      <td>49683.00</td>\n",
       "      <td>140.00</td>\n",
       "      <td>1.00</td>\n",
       "      <td>131.00</td>\n",
       "      <td>20.00</td>\n",
       "    </tr>\n",
       "  </tbody>\n",
       "</table>\n",
       "</div>"
      ],
      "text/plain": [
       "         order_id  product_id  add_to_cart_order   reordered    aisle_id  \\\n",
       "count 13395934.00 13395934.00        13395934.00 13395934.00 13395934.00   \n",
       "mean   1710921.37    26766.62               7.80        0.68       69.38   \n",
       "std     987195.79    13690.25               6.64        0.47       37.84   \n",
       "min          2.00       45.00               1.00        0.00        3.00   \n",
       "25%     856207.00    16797.00               3.00        0.00       24.00   \n",
       "50%    1711435.00    26209.00               6.00        1.00       83.00   \n",
       "75%    2565216.00    39275.00              11.00        1.00       96.00   \n",
       "max    3421083.00    49683.00             140.00        1.00      131.00   \n",
       "\n",
       "       department_id  \n",
       "count    13395934.00  \n",
       "mean            7.87  \n",
       "std             5.70  \n",
       "min             1.00  \n",
       "25%             4.00  \n",
       "50%             4.00  \n",
       "75%            15.00  \n",
       "max            20.00  "
      ]
     },
     "execution_count": 17,
     "metadata": {},
     "output_type": "execute_result"
    }
   ],
   "source": [
    "# Generate descriptive statistics\n",
    "filtered_data.describe()"
   ]
  },
  {
   "cell_type": "code",
   "execution_count": 18,
   "id": "58d891a1",
   "metadata": {
    "execution": {
     "iopub.execute_input": "2024-01-13T17:16:52.154036Z",
     "iopub.status.busy": "2024-01-13T17:16:52.152395Z",
     "iopub.status.idle": "2024-01-13T17:16:52.172553Z",
     "shell.execute_reply": "2024-01-13T17:16:52.170857Z"
    },
    "papermill": {
     "duration": 0.03784,
     "end_time": "2024-01-13T17:16:52.175639",
     "exception": false,
     "start_time": "2024-01-13T17:16:52.137799",
     "status": "completed"
    },
    "tags": []
   },
   "outputs": [
    {
     "name": "stdout",
     "output_type": "stream",
     "text": [
      "<class 'pandas.core.frame.DataFrame'>\n",
      "Index: 13395934 entries, 0 to 24689958\n",
      "Data columns (total 7 columns):\n",
      " #   Column             Dtype \n",
      "---  ------             ----- \n",
      " 0   order_id           int64 \n",
      " 1   product_id         int64 \n",
      " 2   add_to_cart_order  int64 \n",
      " 3   reordered          int64 \n",
      " 4   product_name       object\n",
      " 5   aisle_id           int64 \n",
      " 6   department_id      int64 \n",
      "dtypes: int64(6), object(1)\n",
      "memory usage: 817.6+ MB\n"
     ]
    }
   ],
   "source": [
    "# Display data types of each column, and memory usage\n",
    "filtered_data.info()"
   ]
  },
  {
   "cell_type": "markdown",
   "id": "3db75d59",
   "metadata": {
    "papermill": {
     "duration": 0.012289,
     "end_time": "2024-01-13T17:16:52.200805",
     "exception": false,
     "start_time": "2024-01-13T17:16:52.188516",
     "status": "completed"
    },
    "tags": []
   },
   "source": [
    "*Changing the data types of each column will help us save some memory. It is mostly useful when creating the basket DataFrame, as it enables us to work with more data.*"
   ]
  },
  {
   "cell_type": "code",
   "execution_count": 19,
   "id": "dc586743",
   "metadata": {
    "execution": {
     "iopub.execute_input": "2024-01-13T17:16:52.230449Z",
     "iopub.status.busy": "2024-01-13T17:16:52.229995Z",
     "iopub.status.idle": "2024-01-13T17:16:52.908853Z",
     "shell.execute_reply": "2024-01-13T17:16:52.907490Z"
    },
    "papermill": {
     "duration": 0.697468,
     "end_time": "2024-01-13T17:16:52.911890",
     "exception": false,
     "start_time": "2024-01-13T17:16:52.214422",
     "status": "completed"
    },
    "tags": []
   },
   "outputs": [
    {
     "name": "stdout",
     "output_type": "stream",
     "text": [
      "<class 'pandas.core.frame.DataFrame'>\n",
      "Index: 13395934 entries, 0 to 24689958\n",
      "Data columns (total 4 columns):\n",
      " #   Column        Dtype \n",
      "---  ------        ----- \n",
      " 0   order_id      int32 \n",
      " 1   product_id    uint16\n",
      " 2   reordered     int8  \n",
      " 3   product_name  object\n",
      "dtypes: int32(1), int8(1), object(1), uint16(1)\n",
      "memory usage: 293.8+ MB\n"
     ]
    }
   ],
   "source": [
    "# Change the data types of several columns to save memory\n",
    "filtered_data['order_id'] = filtered_data['order_id'].astype('int32')\n",
    "filtered_data['product_id'] = filtered_data['product_id'].astype('uint16')\n",
    "filtered_data['reordered'] = filtered_data['reordered'].astype('int8')\n",
    "\n",
    "# Drop several columns that are not necessary for the analysis\n",
    "filtered_data.drop(['department_id', 'aisle_id', 'add_to_cart_order'], axis=1, inplace=True)\n",
    "\n",
    "# Display the new data types, and memory usage of the DataFrame after preprocessing\n",
    "filtered_data.info()"
   ]
  },
  {
   "cell_type": "code",
   "execution_count": 20,
   "id": "ff96bb6f",
   "metadata": {
    "execution": {
     "iopub.execute_input": "2024-01-13T17:16:52.941394Z",
     "iopub.status.busy": "2024-01-13T17:16:52.940553Z",
     "iopub.status.idle": "2024-01-13T17:18:10.666710Z",
     "shell.execute_reply": "2024-01-13T17:18:10.664579Z"
    },
    "papermill": {
     "duration": 77.766412,
     "end_time": "2024-01-13T17:18:10.691811",
     "exception": false,
     "start_time": "2024-01-13T17:16:52.925399",
     "status": "completed"
    },
    "tags": []
   },
   "outputs": [
    {
     "data": {
      "text/html": [
       "<div>\n",
       "<style scoped>\n",
       "    .dataframe tbody tr th:only-of-type {\n",
       "        vertical-align: middle;\n",
       "    }\n",
       "\n",
       "    .dataframe tbody tr th {\n",
       "        vertical-align: top;\n",
       "    }\n",
       "\n",
       "    .dataframe thead th {\n",
       "        text-align: right;\n",
       "    }\n",
       "</style>\n",
       "<table border=\"1\" class=\"dataframe\">\n",
       "  <thead>\n",
       "    <tr style=\"text-align: right;\">\n",
       "      <th>product_name</th>\n",
       "      <th>0% Greek Strained Yogurt</th>\n",
       "      <th>1% Lowfat Milk</th>\n",
       "      <th>100 Calorie  Per Bag Popcorn</th>\n",
       "      <th>100% Raw Coconut Water</th>\n",
       "      <th>100% Recycled Paper Towels</th>\n",
       "      <th>100% Whole Wheat Bread</th>\n",
       "      <th>2% Reduced Fat DHA Omega-3 Reduced Fat Milk</th>\n",
       "      <th>2% Reduced Fat Milk</th>\n",
       "      <th>2% Reduced Fat Organic Milk</th>\n",
       "      <th>85% Lean Ground Beef</th>\n",
       "      <th>...</th>\n",
       "      <th>White Onion</th>\n",
       "      <th>Whole Almonds</th>\n",
       "      <th>Whole Milk</th>\n",
       "      <th>Whole Milk Plain Yogurt</th>\n",
       "      <th>XL Emerald White Seedless Grapes</th>\n",
       "      <th>Yellow Bell Pepper</th>\n",
       "      <th>Yellow Onions</th>\n",
       "      <th>YoKids Blueberry &amp; Strawberry/Vanilla Yogurt</th>\n",
       "      <th>YoKids Squeezers Organic Low-Fat Yogurt, Strawberry</th>\n",
       "      <th>Yogurt, Strained Low-Fat, Coconut</th>\n",
       "    </tr>\n",
       "    <tr>\n",
       "      <th>order_id</th>\n",
       "      <th></th>\n",
       "      <th></th>\n",
       "      <th></th>\n",
       "      <th></th>\n",
       "      <th></th>\n",
       "      <th></th>\n",
       "      <th></th>\n",
       "      <th></th>\n",
       "      <th></th>\n",
       "      <th></th>\n",
       "      <th></th>\n",
       "      <th></th>\n",
       "      <th></th>\n",
       "      <th></th>\n",
       "      <th></th>\n",
       "      <th></th>\n",
       "      <th></th>\n",
       "      <th></th>\n",
       "      <th></th>\n",
       "      <th></th>\n",
       "      <th></th>\n",
       "    </tr>\n",
       "  </thead>\n",
       "  <tbody>\n",
       "    <tr>\n",
       "      <th>2</th>\n",
       "      <td>0.00</td>\n",
       "      <td>0.00</td>\n",
       "      <td>0.00</td>\n",
       "      <td>0.00</td>\n",
       "      <td>0.00</td>\n",
       "      <td>0.00</td>\n",
       "      <td>0.00</td>\n",
       "      <td>0.00</td>\n",
       "      <td>0.00</td>\n",
       "      <td>0.00</td>\n",
       "      <td>...</td>\n",
       "      <td>0.00</td>\n",
       "      <td>0.00</td>\n",
       "      <td>0.00</td>\n",
       "      <td>0.00</td>\n",
       "      <td>0.00</td>\n",
       "      <td>0.00</td>\n",
       "      <td>0.00</td>\n",
       "      <td>0.00</td>\n",
       "      <td>0.00</td>\n",
       "      <td>0.00</td>\n",
       "    </tr>\n",
       "    <tr>\n",
       "      <th>3</th>\n",
       "      <td>0.00</td>\n",
       "      <td>0.00</td>\n",
       "      <td>0.00</td>\n",
       "      <td>0.00</td>\n",
       "      <td>0.00</td>\n",
       "      <td>0.00</td>\n",
       "      <td>0.00</td>\n",
       "      <td>0.00</td>\n",
       "      <td>0.00</td>\n",
       "      <td>0.00</td>\n",
       "      <td>...</td>\n",
       "      <td>0.00</td>\n",
       "      <td>0.00</td>\n",
       "      <td>0.00</td>\n",
       "      <td>0.00</td>\n",
       "      <td>0.00</td>\n",
       "      <td>0.00</td>\n",
       "      <td>0.00</td>\n",
       "      <td>0.00</td>\n",
       "      <td>0.00</td>\n",
       "      <td>0.00</td>\n",
       "    </tr>\n",
       "    <tr>\n",
       "      <th>4</th>\n",
       "      <td>0.00</td>\n",
       "      <td>0.00</td>\n",
       "      <td>0.00</td>\n",
       "      <td>0.00</td>\n",
       "      <td>0.00</td>\n",
       "      <td>0.00</td>\n",
       "      <td>0.00</td>\n",
       "      <td>0.00</td>\n",
       "      <td>0.00</td>\n",
       "      <td>0.00</td>\n",
       "      <td>...</td>\n",
       "      <td>0.00</td>\n",
       "      <td>0.00</td>\n",
       "      <td>0.00</td>\n",
       "      <td>0.00</td>\n",
       "      <td>0.00</td>\n",
       "      <td>0.00</td>\n",
       "      <td>0.00</td>\n",
       "      <td>0.00</td>\n",
       "      <td>0.00</td>\n",
       "      <td>0.00</td>\n",
       "    </tr>\n",
       "    <tr>\n",
       "      <th>5</th>\n",
       "      <td>0.00</td>\n",
       "      <td>0.00</td>\n",
       "      <td>0.00</td>\n",
       "      <td>0.00</td>\n",
       "      <td>0.00</td>\n",
       "      <td>0.00</td>\n",
       "      <td>0.00</td>\n",
       "      <td>1.00</td>\n",
       "      <td>0.00</td>\n",
       "      <td>0.00</td>\n",
       "      <td>...</td>\n",
       "      <td>0.00</td>\n",
       "      <td>0.00</td>\n",
       "      <td>0.00</td>\n",
       "      <td>0.00</td>\n",
       "      <td>0.00</td>\n",
       "      <td>0.00</td>\n",
       "      <td>0.00</td>\n",
       "      <td>0.00</td>\n",
       "      <td>0.00</td>\n",
       "      <td>0.00</td>\n",
       "    </tr>\n",
       "    <tr>\n",
       "      <th>7</th>\n",
       "      <td>0.00</td>\n",
       "      <td>0.00</td>\n",
       "      <td>0.00</td>\n",
       "      <td>0.00</td>\n",
       "      <td>0.00</td>\n",
       "      <td>0.00</td>\n",
       "      <td>0.00</td>\n",
       "      <td>0.00</td>\n",
       "      <td>0.00</td>\n",
       "      <td>0.00</td>\n",
       "      <td>...</td>\n",
       "      <td>0.00</td>\n",
       "      <td>0.00</td>\n",
       "      <td>0.00</td>\n",
       "      <td>0.00</td>\n",
       "      <td>0.00</td>\n",
       "      <td>0.00</td>\n",
       "      <td>0.00</td>\n",
       "      <td>0.00</td>\n",
       "      <td>0.00</td>\n",
       "      <td>0.00</td>\n",
       "    </tr>\n",
       "  </tbody>\n",
       "</table>\n",
       "<p>5 rows × 450 columns</p>\n",
       "</div>"
      ],
      "text/plain": [
       "product_name  0% Greek Strained Yogurt  1% Lowfat Milk  \\\n",
       "order_id                                                 \n",
       "2                                 0.00            0.00   \n",
       "3                                 0.00            0.00   \n",
       "4                                 0.00            0.00   \n",
       "5                                 0.00            0.00   \n",
       "7                                 0.00            0.00   \n",
       "\n",
       "product_name  100 Calorie  Per Bag Popcorn  100% Raw Coconut Water  \\\n",
       "order_id                                                             \n",
       "2                                     0.00                    0.00   \n",
       "3                                     0.00                    0.00   \n",
       "4                                     0.00                    0.00   \n",
       "5                                     0.00                    0.00   \n",
       "7                                     0.00                    0.00   \n",
       "\n",
       "product_name  100% Recycled Paper Towels  100% Whole Wheat Bread  \\\n",
       "order_id                                                           \n",
       "2                                   0.00                    0.00   \n",
       "3                                   0.00                    0.00   \n",
       "4                                   0.00                    0.00   \n",
       "5                                   0.00                    0.00   \n",
       "7                                   0.00                    0.00   \n",
       "\n",
       "product_name  2% Reduced Fat DHA Omega-3 Reduced Fat Milk  \\\n",
       "order_id                                                    \n",
       "2                                                    0.00   \n",
       "3                                                    0.00   \n",
       "4                                                    0.00   \n",
       "5                                                    0.00   \n",
       "7                                                    0.00   \n",
       "\n",
       "product_name  2% Reduced Fat Milk  2% Reduced Fat Organic Milk  \\\n",
       "order_id                                                         \n",
       "2                            0.00                         0.00   \n",
       "3                            0.00                         0.00   \n",
       "4                            0.00                         0.00   \n",
       "5                            1.00                         0.00   \n",
       "7                            0.00                         0.00   \n",
       "\n",
       "product_name  85% Lean Ground Beef  ...  White Onion  Whole Almonds  \\\n",
       "order_id                            ...                               \n",
       "2                             0.00  ...         0.00           0.00   \n",
       "3                             0.00  ...         0.00           0.00   \n",
       "4                             0.00  ...         0.00           0.00   \n",
       "5                             0.00  ...         0.00           0.00   \n",
       "7                             0.00  ...         0.00           0.00   \n",
       "\n",
       "product_name  Whole Milk  Whole Milk Plain Yogurt  \\\n",
       "order_id                                            \n",
       "2                   0.00                     0.00   \n",
       "3                   0.00                     0.00   \n",
       "4                   0.00                     0.00   \n",
       "5                   0.00                     0.00   \n",
       "7                   0.00                     0.00   \n",
       "\n",
       "product_name  XL Emerald White Seedless Grapes  Yellow Bell Pepper  \\\n",
       "order_id                                                             \n",
       "2                                         0.00                0.00   \n",
       "3                                         0.00                0.00   \n",
       "4                                         0.00                0.00   \n",
       "5                                         0.00                0.00   \n",
       "7                                         0.00                0.00   \n",
       "\n",
       "product_name  Yellow Onions  YoKids Blueberry & Strawberry/Vanilla Yogurt  \\\n",
       "order_id                                                                    \n",
       "2                      0.00                                          0.00   \n",
       "3                      0.00                                          0.00   \n",
       "4                      0.00                                          0.00   \n",
       "5                      0.00                                          0.00   \n",
       "7                      0.00                                          0.00   \n",
       "\n",
       "product_name  YoKids Squeezers Organic Low-Fat Yogurt, Strawberry  \\\n",
       "order_id                                                            \n",
       "2                                                            0.00   \n",
       "3                                                            0.00   \n",
       "4                                                            0.00   \n",
       "5                                                            0.00   \n",
       "7                                                            0.00   \n",
       "\n",
       "product_name  Yogurt, Strained Low-Fat, Coconut  \n",
       "order_id                                         \n",
       "2                                          0.00  \n",
       "3                                          0.00  \n",
       "4                                          0.00  \n",
       "5                                          0.00  \n",
       "7                                          0.00  \n",
       "\n",
       "[5 rows x 450 columns]"
      ]
     },
     "execution_count": 20,
     "metadata": {},
     "output_type": "execute_result"
    }
   ],
   "source": [
    "# Create a product basket DataFrame, with each row as an order and columns as products\n",
    "basket = (filtered_data.groupby(['order_id', 'product_name'])['reordered'].count()\n",
    "          .unstack().reset_index().fillna(0).set_index('order_id'))\n",
    "\n",
    "# Display the first few rows of the basket DataFrame\n",
    "basket.head()"
   ]
  },
  {
   "cell_type": "code",
   "execution_count": 21,
   "id": "4a27cf9f",
   "metadata": {
    "execution": {
     "iopub.execute_input": "2024-01-13T17:18:10.723071Z",
     "iopub.status.busy": "2024-01-13T17:18:10.722220Z",
     "iopub.status.idle": "2024-01-13T17:18:10.757344Z",
     "shell.execute_reply": "2024-01-13T17:18:10.755842Z"
    },
    "papermill": {
     "duration": 0.055264,
     "end_time": "2024-01-13T17:18:10.760541",
     "exception": false,
     "start_time": "2024-01-13T17:18:10.705277",
     "status": "completed"
    },
    "tags": []
   },
   "outputs": [
    {
     "name": "stdout",
     "output_type": "stream",
     "text": [
      "<class 'pandas.core.frame.DataFrame'>\n",
      "Index: 2783957 entries, 2 to 3421083\n",
      "Columns: 450 entries, 0% Greek Strained Yogurt to Yogurt, Strained Low-Fat, Coconut\n",
      "dtypes: float64(450)\n",
      "memory usage: 9.3 GB\n"
     ]
    }
   ],
   "source": [
    "# Checking the memory usage of the `basket` DataFrame\n",
    "basket.info()"
   ]
  },
  {
   "cell_type": "code",
   "execution_count": 22,
   "id": "75a5ea27",
   "metadata": {
    "execution": {
     "iopub.execute_input": "2024-01-13T17:18:10.791191Z",
     "iopub.status.busy": "2024-01-13T17:18:10.790716Z",
     "iopub.status.idle": "2024-01-13T17:18:16.763818Z",
     "shell.execute_reply": "2024-01-13T17:18:16.762566Z"
    },
    "papermill": {
     "duration": 5.992059,
     "end_time": "2024-01-13T17:18:16.766808",
     "exception": false,
     "start_time": "2024-01-13T17:18:10.774749",
     "status": "completed"
    },
    "tags": []
   },
   "outputs": [
    {
     "name": "stdout",
     "output_type": "stream",
     "text": [
      "<class 'pandas.core.frame.DataFrame'>\n",
      "Index: 2783957 entries, 2 to 3421083\n",
      "Columns: 450 entries, 0% Greek Strained Yogurt to Yogurt, Strained Low-Fat, Coconut\n",
      "dtypes: uint8(450)\n",
      "memory usage: 1.2 GB\n"
     ]
    }
   ],
   "source": [
    "# Change the data types of the basket dataframe to save memory\n",
    "basket = basket.astype('uint8')\n",
    "\n",
    "# Checking the new memory usage of the `basket` DataFrame\n",
    "basket.info()"
   ]
  },
  {
   "cell_type": "markdown",
   "id": "8927cd3f",
   "metadata": {
    "papermill": {
     "duration": 0.013421,
     "end_time": "2024-01-13T17:18:16.794718",
     "exception": false,
     "start_time": "2024-01-13T17:18:16.781297",
     "status": "completed"
    },
    "tags": []
   },
   "source": [
    "*Switching to more memory-efficient datatypes enables us to work more effectively with larger datasets. As evidenced by our reduction in memory usage from 9.3 GB down to 1.2 GB, we achieved over seven times improvement in memory efficiency.*"
   ]
  },
  {
   "cell_type": "code",
   "execution_count": 23,
   "id": "e457f818",
   "metadata": {
    "execution": {
     "iopub.execute_input": "2024-01-13T17:18:16.823850Z",
     "iopub.status.busy": "2024-01-13T17:18:16.823356Z",
     "iopub.status.idle": "2024-01-13T17:18:23.566207Z",
     "shell.execute_reply": "2024-01-13T17:18:23.564555Z"
    },
    "papermill": {
     "duration": 6.761022,
     "end_time": "2024-01-13T17:18:23.569373",
     "exception": false,
     "start_time": "2024-01-13T17:18:16.808351",
     "status": "completed"
    },
    "tags": []
   },
   "outputs": [
    {
     "data": {
      "text/html": [
       "<div>\n",
       "<style scoped>\n",
       "    .dataframe tbody tr th:only-of-type {\n",
       "        vertical-align: middle;\n",
       "    }\n",
       "\n",
       "    .dataframe tbody tr th {\n",
       "        vertical-align: top;\n",
       "    }\n",
       "\n",
       "    .dataframe thead th {\n",
       "        text-align: right;\n",
       "    }\n",
       "</style>\n",
       "<table border=\"1\" class=\"dataframe\">\n",
       "  <thead>\n",
       "    <tr style=\"text-align: right;\">\n",
       "      <th>product_name</th>\n",
       "      <th>0% Greek Strained Yogurt</th>\n",
       "      <th>1% Lowfat Milk</th>\n",
       "      <th>100 Calorie  Per Bag Popcorn</th>\n",
       "      <th>100% Raw Coconut Water</th>\n",
       "      <th>100% Recycled Paper Towels</th>\n",
       "      <th>100% Whole Wheat Bread</th>\n",
       "      <th>2% Reduced Fat DHA Omega-3 Reduced Fat Milk</th>\n",
       "      <th>2% Reduced Fat Milk</th>\n",
       "      <th>2% Reduced Fat Organic Milk</th>\n",
       "      <th>85% Lean Ground Beef</th>\n",
       "      <th>...</th>\n",
       "      <th>White Onion</th>\n",
       "      <th>Whole Almonds</th>\n",
       "      <th>Whole Milk</th>\n",
       "      <th>Whole Milk Plain Yogurt</th>\n",
       "      <th>XL Emerald White Seedless Grapes</th>\n",
       "      <th>Yellow Bell Pepper</th>\n",
       "      <th>Yellow Onions</th>\n",
       "      <th>YoKids Blueberry &amp; Strawberry/Vanilla Yogurt</th>\n",
       "      <th>YoKids Squeezers Organic Low-Fat Yogurt, Strawberry</th>\n",
       "      <th>Yogurt, Strained Low-Fat, Coconut</th>\n",
       "    </tr>\n",
       "    <tr>\n",
       "      <th>order_id</th>\n",
       "      <th></th>\n",
       "      <th></th>\n",
       "      <th></th>\n",
       "      <th></th>\n",
       "      <th></th>\n",
       "      <th></th>\n",
       "      <th></th>\n",
       "      <th></th>\n",
       "      <th></th>\n",
       "      <th></th>\n",
       "      <th></th>\n",
       "      <th></th>\n",
       "      <th></th>\n",
       "      <th></th>\n",
       "      <th></th>\n",
       "      <th></th>\n",
       "      <th></th>\n",
       "      <th></th>\n",
       "      <th></th>\n",
       "      <th></th>\n",
       "      <th></th>\n",
       "    </tr>\n",
       "  </thead>\n",
       "  <tbody>\n",
       "    <tr>\n",
       "      <th>2</th>\n",
       "      <td>0</td>\n",
       "      <td>0</td>\n",
       "      <td>0</td>\n",
       "      <td>0</td>\n",
       "      <td>0</td>\n",
       "      <td>0</td>\n",
       "      <td>0</td>\n",
       "      <td>0</td>\n",
       "      <td>0</td>\n",
       "      <td>0</td>\n",
       "      <td>...</td>\n",
       "      <td>0</td>\n",
       "      <td>0</td>\n",
       "      <td>0</td>\n",
       "      <td>0</td>\n",
       "      <td>0</td>\n",
       "      <td>0</td>\n",
       "      <td>0</td>\n",
       "      <td>0</td>\n",
       "      <td>0</td>\n",
       "      <td>0</td>\n",
       "    </tr>\n",
       "    <tr>\n",
       "      <th>3</th>\n",
       "      <td>0</td>\n",
       "      <td>0</td>\n",
       "      <td>0</td>\n",
       "      <td>0</td>\n",
       "      <td>0</td>\n",
       "      <td>0</td>\n",
       "      <td>0</td>\n",
       "      <td>0</td>\n",
       "      <td>0</td>\n",
       "      <td>0</td>\n",
       "      <td>...</td>\n",
       "      <td>0</td>\n",
       "      <td>0</td>\n",
       "      <td>0</td>\n",
       "      <td>0</td>\n",
       "      <td>0</td>\n",
       "      <td>0</td>\n",
       "      <td>0</td>\n",
       "      <td>0</td>\n",
       "      <td>0</td>\n",
       "      <td>0</td>\n",
       "    </tr>\n",
       "    <tr>\n",
       "      <th>4</th>\n",
       "      <td>0</td>\n",
       "      <td>0</td>\n",
       "      <td>0</td>\n",
       "      <td>0</td>\n",
       "      <td>0</td>\n",
       "      <td>0</td>\n",
       "      <td>0</td>\n",
       "      <td>0</td>\n",
       "      <td>0</td>\n",
       "      <td>0</td>\n",
       "      <td>...</td>\n",
       "      <td>0</td>\n",
       "      <td>0</td>\n",
       "      <td>0</td>\n",
       "      <td>0</td>\n",
       "      <td>0</td>\n",
       "      <td>0</td>\n",
       "      <td>0</td>\n",
       "      <td>0</td>\n",
       "      <td>0</td>\n",
       "      <td>0</td>\n",
       "    </tr>\n",
       "    <tr>\n",
       "      <th>5</th>\n",
       "      <td>0</td>\n",
       "      <td>0</td>\n",
       "      <td>0</td>\n",
       "      <td>0</td>\n",
       "      <td>0</td>\n",
       "      <td>0</td>\n",
       "      <td>0</td>\n",
       "      <td>1</td>\n",
       "      <td>0</td>\n",
       "      <td>0</td>\n",
       "      <td>...</td>\n",
       "      <td>0</td>\n",
       "      <td>0</td>\n",
       "      <td>0</td>\n",
       "      <td>0</td>\n",
       "      <td>0</td>\n",
       "      <td>0</td>\n",
       "      <td>0</td>\n",
       "      <td>0</td>\n",
       "      <td>0</td>\n",
       "      <td>0</td>\n",
       "    </tr>\n",
       "    <tr>\n",
       "      <th>7</th>\n",
       "      <td>0</td>\n",
       "      <td>0</td>\n",
       "      <td>0</td>\n",
       "      <td>0</td>\n",
       "      <td>0</td>\n",
       "      <td>0</td>\n",
       "      <td>0</td>\n",
       "      <td>0</td>\n",
       "      <td>0</td>\n",
       "      <td>0</td>\n",
       "      <td>...</td>\n",
       "      <td>0</td>\n",
       "      <td>0</td>\n",
       "      <td>0</td>\n",
       "      <td>0</td>\n",
       "      <td>0</td>\n",
       "      <td>0</td>\n",
       "      <td>0</td>\n",
       "      <td>0</td>\n",
       "      <td>0</td>\n",
       "      <td>0</td>\n",
       "    </tr>\n",
       "  </tbody>\n",
       "</table>\n",
       "<p>5 rows × 450 columns</p>\n",
       "</div>"
      ],
      "text/plain": [
       "product_name  0% Greek Strained Yogurt  1% Lowfat Milk  \\\n",
       "order_id                                                 \n",
       "2                                    0               0   \n",
       "3                                    0               0   \n",
       "4                                    0               0   \n",
       "5                                    0               0   \n",
       "7                                    0               0   \n",
       "\n",
       "product_name  100 Calorie  Per Bag Popcorn  100% Raw Coconut Water  \\\n",
       "order_id                                                             \n",
       "2                                        0                       0   \n",
       "3                                        0                       0   \n",
       "4                                        0                       0   \n",
       "5                                        0                       0   \n",
       "7                                        0                       0   \n",
       "\n",
       "product_name  100% Recycled Paper Towels  100% Whole Wheat Bread  \\\n",
       "order_id                                                           \n",
       "2                                      0                       0   \n",
       "3                                      0                       0   \n",
       "4                                      0                       0   \n",
       "5                                      0                       0   \n",
       "7                                      0                       0   \n",
       "\n",
       "product_name  2% Reduced Fat DHA Omega-3 Reduced Fat Milk  \\\n",
       "order_id                                                    \n",
       "2                                                       0   \n",
       "3                                                       0   \n",
       "4                                                       0   \n",
       "5                                                       0   \n",
       "7                                                       0   \n",
       "\n",
       "product_name  2% Reduced Fat Milk  2% Reduced Fat Organic Milk  \\\n",
       "order_id                                                         \n",
       "2                               0                            0   \n",
       "3                               0                            0   \n",
       "4                               0                            0   \n",
       "5                               1                            0   \n",
       "7                               0                            0   \n",
       "\n",
       "product_name  85% Lean Ground Beef  ...  White Onion  Whole Almonds  \\\n",
       "order_id                            ...                               \n",
       "2                                0  ...            0              0   \n",
       "3                                0  ...            0              0   \n",
       "4                                0  ...            0              0   \n",
       "5                                0  ...            0              0   \n",
       "7                                0  ...            0              0   \n",
       "\n",
       "product_name  Whole Milk  Whole Milk Plain Yogurt  \\\n",
       "order_id                                            \n",
       "2                      0                        0   \n",
       "3                      0                        0   \n",
       "4                      0                        0   \n",
       "5                      0                        0   \n",
       "7                      0                        0   \n",
       "\n",
       "product_name  XL Emerald White Seedless Grapes  Yellow Bell Pepper  \\\n",
       "order_id                                                             \n",
       "2                                            0                   0   \n",
       "3                                            0                   0   \n",
       "4                                            0                   0   \n",
       "5                                            0                   0   \n",
       "7                                            0                   0   \n",
       "\n",
       "product_name  Yellow Onions  YoKids Blueberry & Strawberry/Vanilla Yogurt  \\\n",
       "order_id                                                                    \n",
       "2                         0                                             0   \n",
       "3                         0                                             0   \n",
       "4                         0                                             0   \n",
       "5                         0                                             0   \n",
       "7                         0                                             0   \n",
       "\n",
       "product_name  YoKids Squeezers Organic Low-Fat Yogurt, Strawberry  \\\n",
       "order_id                                                            \n",
       "2                                                               0   \n",
       "3                                                               0   \n",
       "4                                                               0   \n",
       "5                                                               0   \n",
       "7                                                               0   \n",
       "\n",
       "product_name  Yogurt, Strained Low-Fat, Coconut  \n",
       "order_id                                         \n",
       "2                                             0  \n",
       "3                                             0  \n",
       "4                                             0  \n",
       "5                                             0  \n",
       "7                                             0  \n",
       "\n",
       "[5 rows x 450 columns]"
      ]
     },
     "execution_count": 23,
     "metadata": {},
     "output_type": "execute_result"
    }
   ],
   "source": [
    "# Apply encoding to the basket DataFrame, ensuring all values exceeding 1 are clipped to 1.\n",
    "# This prepares the data for association rule mining, where we're only interested in whether\n",
    "# a product is included in an order (1), not its quantity.\n",
    "basket_encoded = basket.clip(0, 1)\n",
    "\n",
    "# Display the first few rows of the `basket_encoded` DataFrame\n",
    "basket_encoded.head()"
   ]
  },
  {
   "cell_type": "code",
   "execution_count": 24,
   "id": "b9ae15b0",
   "metadata": {
    "execution": {
     "iopub.execute_input": "2024-01-13T17:18:23.603603Z",
     "iopub.status.busy": "2024-01-13T17:18:23.603145Z",
     "iopub.status.idle": "2024-01-13T17:18:23.609738Z",
     "shell.execute_reply": "2024-01-13T17:18:23.608388Z"
    },
    "papermill": {
     "duration": 0.027057,
     "end_time": "2024-01-13T17:18:23.612823",
     "exception": false,
     "start_time": "2024-01-13T17:18:23.585766",
     "status": "completed"
    },
    "tags": []
   },
   "outputs": [
    {
     "name": "stdout",
     "output_type": "stream",
     "text": [
      "The number of rows and columns in the 'basket_encoded' DataFrame: (2783957, 450)\n"
     ]
    }
   ],
   "source": [
    "# Print the dimensions of 'basket_encoded'\n",
    "print(f\"The number of rows and columns in the 'basket_encoded' DataFrame: {basket_encoded.shape}\")"
   ]
  },
  {
   "cell_type": "markdown",
   "id": "11a12f5f",
   "metadata": {
    "papermill": {
     "duration": 0.013746,
     "end_time": "2024-01-13T17:18:23.641001",
     "exception": false,
     "start_time": "2024-01-13T17:18:23.627255",
     "status": "completed"
    },
    "tags": []
   },
   "source": [
    "## Apriori Algorithm\n",
    "\n",
    "*In this segment, we'll employ the apriori algorithm to identify the items that are purchased most frequently in our dataset. We'll set our minimum support threshold at 1%, implying that only items appearing in at least 1% of the transactions will be considered.*"
   ]
  },
  {
   "cell_type": "code",
   "execution_count": 25,
   "id": "a7866f77",
   "metadata": {
    "execution": {
     "iopub.execute_input": "2024-01-13T17:18:23.675603Z",
     "iopub.status.busy": "2024-01-13T17:18:23.674991Z",
     "iopub.status.idle": "2024-01-13T17:19:12.371833Z",
     "shell.execute_reply": "2024-01-13T17:19:12.370526Z"
    },
    "papermill": {
     "duration": 48.732234,
     "end_time": "2024-01-13T17:19:12.388728",
     "exception": false,
     "start_time": "2024-01-13T17:18:23.656494",
     "status": "completed"
    },
    "tags": []
   },
   "outputs": [
    {
     "data": {
      "text/html": [
       "<div>\n",
       "<style scoped>\n",
       "    .dataframe tbody tr th:only-of-type {\n",
       "        vertical-align: middle;\n",
       "    }\n",
       "\n",
       "    .dataframe tbody tr th {\n",
       "        vertical-align: top;\n",
       "    }\n",
       "\n",
       "    .dataframe thead th {\n",
       "        text-align: right;\n",
       "    }\n",
       "</style>\n",
       "<table border=\"1\" class=\"dataframe\">\n",
       "  <thead>\n",
       "    <tr style=\"text-align: right;\">\n",
       "      <th></th>\n",
       "      <th>support</th>\n",
       "      <th>itemsets</th>\n",
       "    </tr>\n",
       "  </thead>\n",
       "  <tbody>\n",
       "    <tr>\n",
       "      <th>7</th>\n",
       "      <td>0.17</td>\n",
       "      <td>(Banana)</td>\n",
       "    </tr>\n",
       "    <tr>\n",
       "      <th>6</th>\n",
       "      <td>0.14</td>\n",
       "      <td>(Bag of Organic Bananas)</td>\n",
       "    </tr>\n",
       "    <tr>\n",
       "      <th>88</th>\n",
       "      <td>0.10</td>\n",
       "      <td>(Organic Strawberries)</td>\n",
       "    </tr>\n",
       "    <tr>\n",
       "      <th>44</th>\n",
       "      <td>0.09</td>\n",
       "      <td>(Organic Baby Spinach)</td>\n",
       "    </tr>\n",
       "    <tr>\n",
       "      <th>66</th>\n",
       "      <td>0.08</td>\n",
       "      <td>(Organic Hass Avocado)</td>\n",
       "    </tr>\n",
       "    <tr>\n",
       "      <th>40</th>\n",
       "      <td>0.06</td>\n",
       "      <td>(Organic Avocado)</td>\n",
       "    </tr>\n",
       "    <tr>\n",
       "      <th>34</th>\n",
       "      <td>0.05</td>\n",
       "      <td>(Large Lemon)</td>\n",
       "    </tr>\n",
       "    <tr>\n",
       "      <th>114</th>\n",
       "      <td>0.05</td>\n",
       "      <td>(Strawberries)</td>\n",
       "    </tr>\n",
       "    <tr>\n",
       "      <th>36</th>\n",
       "      <td>0.05</td>\n",
       "      <td>(Limes)</td>\n",
       "    </tr>\n",
       "    <tr>\n",
       "      <th>91</th>\n",
       "      <td>0.05</td>\n",
       "      <td>(Organic Whole Milk)</td>\n",
       "    </tr>\n",
       "  </tbody>\n",
       "</table>\n",
       "</div>"
      ],
      "text/plain": [
       "     support                  itemsets\n",
       "7       0.17                  (Banana)\n",
       "6       0.14  (Bag of Organic Bananas)\n",
       "88      0.10    (Organic Strawberries)\n",
       "44      0.09    (Organic Baby Spinach)\n",
       "66      0.08    (Organic Hass Avocado)\n",
       "40      0.06         (Organic Avocado)\n",
       "34      0.05             (Large Lemon)\n",
       "114     0.05            (Strawberries)\n",
       "36      0.05                   (Limes)\n",
       "91      0.05      (Organic Whole Milk)"
      ]
     },
     "execution_count": 25,
     "metadata": {},
     "output_type": "execute_result"
    }
   ],
   "source": [
    "# Use the apriori algorithm to find frequent itemsets in the encoded basket\n",
    "frequent_itemsets = apriori(basket_encoded, min_support=0.01, use_colnames=True, low_memory=True).sort_values(\"support\", ascending=False)\n",
    "\n",
    "# Display the top 10 frequent itemsets\n",
    "frequent_itemsets.head(10)"
   ]
  },
  {
   "cell_type": "markdown",
   "id": "0fe0b33f",
   "metadata": {
    "papermill": {
     "duration": 0.014998,
     "end_time": "2024-01-13T17:19:12.418848",
     "exception": false,
     "start_time": "2024-01-13T17:19:12.403850",
     "status": "completed"
    },
    "tags": []
   },
   "source": [
    "*The output shows that the Banana is the item bought most often, with a support value of 0.17. This signifies that this particular item features in 17% of all transactions. This further substantiates the observations we made earlier.*"
   ]
  },
  {
   "cell_type": "markdown",
   "id": "07f4defc",
   "metadata": {
    "papermill": {
     "duration": 0.015999,
     "end_time": "2024-01-13T17:19:12.450377",
     "exception": false,
     "start_time": "2024-01-13T17:19:12.434378",
     "status": "completed"
    },
    "tags": []
   },
   "source": [
    "## Association Rules\n",
    "\n",
    "*The concluding stage of our analysis involves producing rules along with their associated support, confidence, and lift metrics. This process allows us to glean valuable insights regarding which items are often bought in conjunction.*"
   ]
  },
  {
   "cell_type": "code",
   "execution_count": 26,
   "id": "c03bf65e",
   "metadata": {
    "execution": {
     "iopub.execute_input": "2024-01-13T17:19:12.484284Z",
     "iopub.status.busy": "2024-01-13T17:19:12.483762Z",
     "iopub.status.idle": "2024-01-13T17:19:12.511607Z",
     "shell.execute_reply": "2024-01-13T17:19:12.510581Z"
    },
    "papermill": {
     "duration": 0.048447,
     "end_time": "2024-01-13T17:19:12.513998",
     "exception": false,
     "start_time": "2024-01-13T17:19:12.465551",
     "status": "completed"
    },
    "tags": []
   },
   "outputs": [
    {
     "data": {
      "text/html": [
       "<div>\n",
       "<style scoped>\n",
       "    .dataframe tbody tr th:only-of-type {\n",
       "        vertical-align: middle;\n",
       "    }\n",
       "\n",
       "    .dataframe tbody tr th {\n",
       "        vertical-align: top;\n",
       "    }\n",
       "\n",
       "    .dataframe thead th {\n",
       "        text-align: right;\n",
       "    }\n",
       "</style>\n",
       "<table border=\"1\" class=\"dataframe\">\n",
       "  <thead>\n",
       "    <tr style=\"text-align: right;\">\n",
       "      <th></th>\n",
       "      <th>antecedents</th>\n",
       "      <th>consequents</th>\n",
       "      <th>antecedent support</th>\n",
       "      <th>consequent support</th>\n",
       "      <th>support</th>\n",
       "      <th>confidence</th>\n",
       "      <th>lift</th>\n",
       "      <th>leverage</th>\n",
       "      <th>conviction</th>\n",
       "      <th>zhangs_metric</th>\n",
       "    </tr>\n",
       "  </thead>\n",
       "  <tbody>\n",
       "    <tr>\n",
       "      <th>0</th>\n",
       "      <td>(Organic Raspberries)</td>\n",
       "      <td>(Organic Strawberries)</td>\n",
       "      <td>0.05</td>\n",
       "      <td>0.10</td>\n",
       "      <td>0.01</td>\n",
       "      <td>0.25</td>\n",
       "      <td>2.60</td>\n",
       "      <td>0.01</td>\n",
       "      <td>1.20</td>\n",
       "      <td>0.65</td>\n",
       "    </tr>\n",
       "    <tr>\n",
       "      <th>1</th>\n",
       "      <td>(Organic Strawberries)</td>\n",
       "      <td>(Organic Raspberries)</td>\n",
       "      <td>0.10</td>\n",
       "      <td>0.05</td>\n",
       "      <td>0.01</td>\n",
       "      <td>0.13</td>\n",
       "      <td>2.60</td>\n",
       "      <td>0.01</td>\n",
       "      <td>1.09</td>\n",
       "      <td>0.68</td>\n",
       "    </tr>\n",
       "    <tr>\n",
       "      <th>2</th>\n",
       "      <td>(Banana)</td>\n",
       "      <td>(Organic Fuji Apple)</td>\n",
       "      <td>0.17</td>\n",
       "      <td>0.03</td>\n",
       "      <td>0.01</td>\n",
       "      <td>0.07</td>\n",
       "      <td>2.23</td>\n",
       "      <td>0.01</td>\n",
       "      <td>1.04</td>\n",
       "      <td>0.66</td>\n",
       "    </tr>\n",
       "    <tr>\n",
       "      <th>3</th>\n",
       "      <td>(Organic Fuji Apple)</td>\n",
       "      <td>(Banana)</td>\n",
       "      <td>0.03</td>\n",
       "      <td>0.17</td>\n",
       "      <td>0.01</td>\n",
       "      <td>0.38</td>\n",
       "      <td>2.23</td>\n",
       "      <td>0.01</td>\n",
       "      <td>1.34</td>\n",
       "      <td>0.57</td>\n",
       "    </tr>\n",
       "    <tr>\n",
       "      <th>4</th>\n",
       "      <td>(Organic Raspberries)</td>\n",
       "      <td>(Bag of Organic Bananas)</td>\n",
       "      <td>0.05</td>\n",
       "      <td>0.14</td>\n",
       "      <td>0.01</td>\n",
       "      <td>0.30</td>\n",
       "      <td>2.17</td>\n",
       "      <td>0.01</td>\n",
       "      <td>1.23</td>\n",
       "      <td>0.57</td>\n",
       "    </tr>\n",
       "    <tr>\n",
       "      <th>5</th>\n",
       "      <td>(Bag of Organic Bananas)</td>\n",
       "      <td>(Organic Raspberries)</td>\n",
       "      <td>0.14</td>\n",
       "      <td>0.05</td>\n",
       "      <td>0.01</td>\n",
       "      <td>0.11</td>\n",
       "      <td>2.17</td>\n",
       "      <td>0.01</td>\n",
       "      <td>1.06</td>\n",
       "      <td>0.62</td>\n",
       "    </tr>\n",
       "    <tr>\n",
       "      <th>6</th>\n",
       "      <td>(Bag of Organic Bananas)</td>\n",
       "      <td>(Organic Hass Avocado)</td>\n",
       "      <td>0.14</td>\n",
       "      <td>0.08</td>\n",
       "      <td>0.02</td>\n",
       "      <td>0.16</td>\n",
       "      <td>2.14</td>\n",
       "      <td>0.01</td>\n",
       "      <td>1.10</td>\n",
       "      <td>0.62</td>\n",
       "    </tr>\n",
       "    <tr>\n",
       "      <th>7</th>\n",
       "      <td>(Organic Hass Avocado)</td>\n",
       "      <td>(Bag of Organic Bananas)</td>\n",
       "      <td>0.08</td>\n",
       "      <td>0.14</td>\n",
       "      <td>0.02</td>\n",
       "      <td>0.29</td>\n",
       "      <td>2.14</td>\n",
       "      <td>0.01</td>\n",
       "      <td>1.22</td>\n",
       "      <td>0.58</td>\n",
       "    </tr>\n",
       "    <tr>\n",
       "      <th>8</th>\n",
       "      <td>(Banana)</td>\n",
       "      <td>(Honeycrisp Apple)</td>\n",
       "      <td>0.17</td>\n",
       "      <td>0.03</td>\n",
       "      <td>0.01</td>\n",
       "      <td>0.06</td>\n",
       "      <td>2.10</td>\n",
       "      <td>0.01</td>\n",
       "      <td>1.03</td>\n",
       "      <td>0.63</td>\n",
       "    </tr>\n",
       "    <tr>\n",
       "      <th>9</th>\n",
       "      <td>(Honeycrisp Apple)</td>\n",
       "      <td>(Banana)</td>\n",
       "      <td>0.03</td>\n",
       "      <td>0.17</td>\n",
       "      <td>0.01</td>\n",
       "      <td>0.36</td>\n",
       "      <td>2.10</td>\n",
       "      <td>0.01</td>\n",
       "      <td>1.29</td>\n",
       "      <td>0.54</td>\n",
       "    </tr>\n",
       "  </tbody>\n",
       "</table>\n",
       "</div>"
      ],
      "text/plain": [
       "                antecedents               consequents  antecedent support  \\\n",
       "0     (Organic Raspberries)    (Organic Strawberries)                0.05   \n",
       "1    (Organic Strawberries)     (Organic Raspberries)                0.10   \n",
       "2                  (Banana)      (Organic Fuji Apple)                0.17   \n",
       "3      (Organic Fuji Apple)                  (Banana)                0.03   \n",
       "4     (Organic Raspberries)  (Bag of Organic Bananas)                0.05   \n",
       "5  (Bag of Organic Bananas)     (Organic Raspberries)                0.14   \n",
       "6  (Bag of Organic Bananas)    (Organic Hass Avocado)                0.14   \n",
       "7    (Organic Hass Avocado)  (Bag of Organic Bananas)                0.08   \n",
       "8                  (Banana)        (Honeycrisp Apple)                0.17   \n",
       "9        (Honeycrisp Apple)                  (Banana)                0.03   \n",
       "\n",
       "   consequent support  support  confidence  lift  leverage  conviction  \\\n",
       "0                0.10     0.01        0.25  2.60      0.01        1.20   \n",
       "1                0.05     0.01        0.13  2.60      0.01        1.09   \n",
       "2                0.03     0.01        0.07  2.23      0.01        1.04   \n",
       "3                0.17     0.01        0.38  2.23      0.01        1.34   \n",
       "4                0.14     0.01        0.30  2.17      0.01        1.23   \n",
       "5                0.05     0.01        0.11  2.17      0.01        1.06   \n",
       "6                0.08     0.02        0.16  2.14      0.01        1.10   \n",
       "7                0.14     0.02        0.29  2.14      0.01        1.22   \n",
       "8                0.03     0.01        0.06  2.10      0.01        1.03   \n",
       "9                0.17     0.01        0.36  2.10      0.01        1.29   \n",
       "\n",
       "   zhangs_metric  \n",
       "0           0.65  \n",
       "1           0.68  \n",
       "2           0.66  \n",
       "3           0.57  \n",
       "4           0.57  \n",
       "5           0.62  \n",
       "6           0.62  \n",
       "7           0.58  \n",
       "8           0.63  \n",
       "9           0.54  "
      ]
     },
     "execution_count": 26,
     "metadata": {},
     "output_type": "execute_result"
    }
   ],
   "source": [
    "# Generate association rules from the frequent itemsets using the 'lift' metric. Set a minimum lift threshold of 1\n",
    "assoc_rules = association_rules(frequent_itemsets, metric=\"lift\", min_threshold=1).sort_values(\"lift\", ascending=False).reset_index(drop=True)\n",
    "\n",
    "# Display the generated association rules\n",
    "assoc_rules.head(10)"
   ]
  },
  {
   "cell_type": "markdown",
   "id": "13dc4385",
   "metadata": {
    "papermill": {
     "duration": 0.015503,
     "end_time": "2024-01-13T17:19:12.545093",
     "exception": false,
     "start_time": "2024-01-13T17:19:12.529590",
     "status": "completed"
    },
    "tags": []
   },
   "source": [
    "Based on the results from implementing association rules, we can see that 'Organic Raspberries' and 'Organic Strawberries' have the highest lift value, and therefore the highest association of any two products. With a combined support of 0.01, it means both items were purchased together in 1% of all transactions. As far as what marketing strategy to implement with this insight, that will depend on a variety of factors and is a perfect example of how domain knowledge in retail will come in handy. Given that this is an online store, it’s a no-brainer to display each consequent product as a recommendation on the antecedent product page, thereby using the popularity of one product to drive the sales of the other. Another way to attract more sales is to bundle the associated products and implement a bundle pricing technique or a sales promotion around both items."
   ]
  },
  {
   "cell_type": "markdown",
   "id": "f49435dc",
   "metadata": {
    "papermill": {
     "duration": 0.016424,
     "end_time": "2024-01-13T17:19:12.578037",
     "exception": false,
     "start_time": "2024-01-13T17:19:12.561613",
     "status": "completed"
    },
    "tags": []
   },
   "source": [
    "## Conclusion\n",
    "\n",
    "This notebook demonstrated the implementation of market basket analysis on Instscart data using the apriori algorithm and association rules. The process provided actionable insights by uncovering relationships between products that are frequently purchased together. A key benefit of this technique is its interpretability and ease of implementation, making the results readily usable for data-driven marketing decisions. Beyond retail, market basket analysis has diverse applications including predictive maintenance in manufacturing, drug discovery in pharmaceuticals, and fraud detection in finance. Overall, this method enables discoveries of underlying patterns in transaction data across industries to derive strategic business value.\n",
    "\n",
    "### Limitations and Solutions\n",
    "\n",
    "The Apriori algorithm, while powerful, has limitations such as computational inefficiency with large datasets. In this notebook, we have used only 41% of the available data due to these constraints. However, solutions exist to overcome these limitations. By leveraging distributed computing frameworks like Apache Spark, we can efficiently process larger datasets, greatly enhancing scalability and processing speed. This enables us to utilize the full dataset for more robust and comprehensive analysis."
   ]
  }
 ],
 "metadata": {
  "kaggle": {
   "accelerator": "none",
   "dataSources": [
    {
     "datasetId": 4931,
     "sourceId": 7487,
     "sourceType": "datasetVersion"
    }
   ],
   "dockerImageVersionId": 30635,
   "isGpuEnabled": false,
   "isInternetEnabled": true,
   "language": "python",
   "sourceType": "notebook"
  },
  "kernelspec": {
   "display_name": "Python 3",
   "language": "python",
   "name": "python3"
  },
  "language_info": {
   "codemirror_mode": {
    "name": "ipython",
    "version": 3
   },
   "file_extension": ".py",
   "mimetype": "text/x-python",
   "name": "python",
   "nbconvert_exporter": "python",
   "pygments_lexer": "ipython3",
   "version": "3.10.12"
  },
  "papermill": {
   "default_parameters": {},
   "duration": 186.487621,
   "end_time": "2024-01-13T17:19:14.125911",
   "environment_variables": {},
   "exception": null,
   "input_path": "__notebook__.ipynb",
   "output_path": "__notebook__.ipynb",
   "parameters": {},
   "start_time": "2024-01-13T17:16:07.638290",
   "version": "2.4.0"
  }
 },
 "nbformat": 4,
 "nbformat_minor": 5
}
